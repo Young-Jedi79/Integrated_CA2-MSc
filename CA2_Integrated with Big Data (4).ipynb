{
 "cells": [
  {
   "cell_type": "markdown",
   "id": "855d49b7",
   "metadata": {},
   "source": [
    "## Student Name: Edmundo Fernandes\n",
    "\n",
    "## Student Number: sbs 23034\n",
    "\n",
    "## Class Module: Advanced Data & Big Data\n",
    "\n",
    "## Lecturer Name: David McQuaid & Muhammad Iqbal\n",
    "\n",
    "## Date of Submission:\n",
    "\n",
    "## Github Link: https://github.com/Young-Jedi79/Integrated_CA2-MSc"
   ]
  },
  {
   "cell_type": "markdown",
   "id": "007717d5",
   "metadata": {},
   "source": [
    "### Data Preparation And Exploratory Data Analysis"
   ]
  },
  {
   "cell_type": "markdown",
   "id": "586ec3c3",
   "metadata": {},
   "source": [
    "#### Import Libraries:"
   ]
  },
  {
   "cell_type": "code",
   "execution_count": 1,
   "id": "e2cf3eb3",
   "metadata": {},
   "outputs": [],
   "source": [
    "import warnings\n",
    "warnings.filterwarnings('ignore')\n",
    "\n",
    "import pandas as pd\n",
    "import numpy as np\n",
    "import matplotlib.pyplot as plt\n",
    "%matplotlib inline\n",
    "import seaborn as sns\n",
    "import matplotlib.ticker as ticker\n",
    "import scipy as sc\n",
    "import matplotlib.animation as animation\n",
    "import plotly.express as px\n",
    "import plotly.graph_objects as go\n",
    "from IPython.display import HTML\n",
    "from matplotlib import pyplot\n",
    "from bokeh.io import show, output_file\n",
    "from bokeh.models import ColumnDataSource, FactorRange, HoverTool\n",
    "from bokeh.transform import factor_cmap\n",
    "from dateutil.parser import parse \n",
    "\n",
    "from statsmodels.graphics.tsaplots import plot_pacf\n",
    "from statsmodels.graphics.tsaplots import plot_acf\n",
    "from statsmodels.tsa.statespace.sarimax import SARIMAX\n",
    "from statsmodels.tsa.holtwinters import ExponentialSmoothing\n",
    "from statsmodels.tsa.stattools import adfuller, acf,pacf\n",
    "from statsmodels.tsa.stattools import kpss\n",
    "from statsmodels.tsa.arima_model import ARIMA, ARMA\n",
    "from datetime import datetime\n",
    "\n",
    "from sklearn.model_selection import train_test_split\n",
    "from sklearn.preprocessing import LabelEncoder\n",
    "from sklearn.metrics import confusion_matrix, classification_report, accuracy_score\n",
    "from sklearn.manifold import TSNE\n",
    "from sklearn.feature_extraction.text import TfidfVectorizer\n",
    "\n",
    "from keras.preprocessing.text import Tokenizer\n",
    "from keras.preprocessing.sequence import pad_sequences\n",
    "from keras.models import Sequential\n",
    "from keras.layers import Activation, Dense, Dropout, Embedding, Flatten, Conv1D, MaxPooling1D, LSTM\n",
    "from keras import utils\n",
    "from keras.callbacks import ReduceLROnPlateau, EarlyStopping\n",
    "\n",
    "import nltk\n",
    "from nltk.corpus import stopwords\n",
    "from  nltk.stem import SnowballStemmer\n",
    "\n",
    "import gensim\n",
    "\n",
    "from transformers import AutoTokenizer, AutoModelForSequenceClassification\n",
    "from scipy.special import softmax\n",
    "\n",
    "from textblob import TextBlob\n",
    "from textblob import TextBlob\n",
    "\n",
    "import gensim\n",
    "\n",
    "import re\n",
    "import numpy as np\n",
    "import os\n",
    "from collections import Counter\n",
    "import logging\n",
    "import time\n",
    "import pickle\n",
    "import itertools\n",
    "\n",
    "logging.basicConfig(format='%(asctime)s : %(levelname)s : %(message)s', level=logging.INFO)\n",
    "\n",
    "\n",
    "from itertools import product\n",
    "from sklearn.metrics import mean_squared_error, r2_score, mean_absolute_error\n",
    "from sklearn.metrics import median_absolute_error, mean_squared_log_error\n",
    "\n",
    "import matplotlib.pyplot as plt\n",
    "from collections import Counter\n",
    "from scipy.stats import chi2_contingency"
   ]
  },
  {
   "cell_type": "markdown",
   "id": "7bd995c0",
   "metadata": {},
   "source": [
    "### Dataset details:\n",
    "\n",
    "ids: unique id of the tweet\n",
    "\n",
    "date:date of the tweet\n",
    "\n",
    "flag:refers to the query. If no query exists, then it is NO QUERY\n",
    "\n",
    "user:It refers to the name of the user that tweeted\n",
    "\n",
    "text:refers to the name of the user that tweeted\n",
    "\n",
    "sentiment:polarity of the tweet"
   ]
  },
  {
   "cell_type": "code",
   "execution_count": 2,
   "id": "e6fef567",
   "metadata": {},
   "outputs": [],
   "source": [
    "df = pd.read_csv(\"ProjectTweets.csv\")"
   ]
  },
  {
   "cell_type": "code",
   "execution_count": 3,
   "id": "17a628c8",
   "metadata": {},
   "outputs": [
    {
     "data": {
      "text/plain": [
       "<Axes: title={'center': 'ProjectTweets.csv'}>"
      ]
     },
     "execution_count": 3,
     "metadata": {},
     "output_type": "execute_result"
    },
    {
     "data": {
      "image/png": "[encoded data removed]",
      "text/plain": [
       "<Figure size 640x480 with 1 Axes>"
      ]
     },
     "metadata": {},
     "output_type": "display_data"
    }
   ],
   "source": [
    "df.plot(title='ProjectTweets.csv')"
   ]
  },
  {
   "cell_type": "code",
   "execution_count": 4,
   "id": "537a2806",
   "metadata": {},
   "outputs": [
    {
     "data": {
      "text/html": [
       "<div>\n",
       "<style scoped>\n",
       "    .dataframe tbody tr th:only-of-type {\n",
       "        vertical-align: middle;\n",
       "    }\n",
       "\n",
       "    .dataframe tbody tr th {\n",
       "        vertical-align: top;\n",
       "    }\n",
       "\n",
       "    .dataframe thead th {\n",
       "        text-align: right;\n",
       "    }\n",
       "</style>\n",
       "<table border=\"1\" class=\"dataframe\">\n",
       "  <thead>\n",
       "    <tr style=\"text-align: right;\">\n",
       "      <th></th>\n",
       "      <th>0</th>\n",
       "      <th>1467810369</th>\n",
       "      <th>Mon Apr 06 22:19:45 PDT 2009</th>\n",
       "      <th>NO_QUERY</th>\n",
       "      <th>_TheSpecialOne_</th>\n",
       "      <th>@switchfoot http://twitpic.com/2y1zl - Awww, that's a bummer.  You shoulda got David Carr of Third Day to do it. ;D</th>\n",
       "    </tr>\n",
       "  </thead>\n",
       "  <tbody>\n",
       "    <tr>\n",
       "      <th>0</th>\n",
       "      <td>1</td>\n",
       "      <td>1467810672</td>\n",
       "      <td>Mon Apr 06 22:19:49 PDT 2009</td>\n",
       "      <td>NO_QUERY</td>\n",
       "      <td>scotthamilton</td>\n",
       "      <td>is upset that he can't update his Facebook by ...</td>\n",
       "    </tr>\n",
       "    <tr>\n",
       "      <th>1</th>\n",
       "      <td>2</td>\n",
       "      <td>1467810917</td>\n",
       "      <td>Mon Apr 06 22:19:53 PDT 2009</td>\n",
       "      <td>NO_QUERY</td>\n",
       "      <td>mattycus</td>\n",
       "      <td>@Kenichan I dived many times for the ball. Man...</td>\n",
       "    </tr>\n",
       "    <tr>\n",
       "      <th>2</th>\n",
       "      <td>3</td>\n",
       "      <td>1467811184</td>\n",
       "      <td>Mon Apr 06 22:19:57 PDT 2009</td>\n",
       "      <td>NO_QUERY</td>\n",
       "      <td>ElleCTF</td>\n",
       "      <td>my whole body feels itchy and like its on fire</td>\n",
       "    </tr>\n",
       "    <tr>\n",
       "      <th>3</th>\n",
       "      <td>4</td>\n",
       "      <td>1467811193</td>\n",
       "      <td>Mon Apr 06 22:19:57 PDT 2009</td>\n",
       "      <td>NO_QUERY</td>\n",
       "      <td>Karoli</td>\n",
       "      <td>@nationwideclass no, it's not behaving at all....</td>\n",
       "    </tr>\n",
       "    <tr>\n",
       "      <th>4</th>\n",
       "      <td>5</td>\n",
       "      <td>1467811372</td>\n",
       "      <td>Mon Apr 06 22:20:00 PDT 2009</td>\n",
       "      <td>NO_QUERY</td>\n",
       "      <td>joy_wolf</td>\n",
       "      <td>@Kwesidei not the whole crew</td>\n",
       "    </tr>\n",
       "    <tr>\n",
       "      <th>5</th>\n",
       "      <td>6</td>\n",
       "      <td>1467811592</td>\n",
       "      <td>Mon Apr 06 22:20:03 PDT 2009</td>\n",
       "      <td>NO_QUERY</td>\n",
       "      <td>mybirch</td>\n",
       "      <td>Need a hug</td>\n",
       "    </tr>\n",
       "    <tr>\n",
       "      <th>6</th>\n",
       "      <td>7</td>\n",
       "      <td>1467811594</td>\n",
       "      <td>Mon Apr 06 22:20:03 PDT 2009</td>\n",
       "      <td>NO_QUERY</td>\n",
       "      <td>coZZ</td>\n",
       "      <td>@LOLTrish hey  long time no see! Yes.. Rains a...</td>\n",
       "    </tr>\n",
       "    <tr>\n",
       "      <th>7</th>\n",
       "      <td>8</td>\n",
       "      <td>1467811795</td>\n",
       "      <td>Mon Apr 06 22:20:05 PDT 2009</td>\n",
       "      <td>NO_QUERY</td>\n",
       "      <td>2Hood4Hollywood</td>\n",
       "      <td>@Tatiana_K nope they didn't have it</td>\n",
       "    </tr>\n",
       "    <tr>\n",
       "      <th>8</th>\n",
       "      <td>9</td>\n",
       "      <td>1467812025</td>\n",
       "      <td>Mon Apr 06 22:20:09 PDT 2009</td>\n",
       "      <td>NO_QUERY</td>\n",
       "      <td>mimismo</td>\n",
       "      <td>@twittera que me muera ?</td>\n",
       "    </tr>\n",
       "    <tr>\n",
       "      <th>9</th>\n",
       "      <td>10</td>\n",
       "      <td>1467812416</td>\n",
       "      <td>Mon Apr 06 22:20:16 PDT 2009</td>\n",
       "      <td>NO_QUERY</td>\n",
       "      <td>erinx3leannexo</td>\n",
       "      <td>spring break in plain city... it's snowing</td>\n",
       "    </tr>\n",
       "  </tbody>\n",
       "</table>\n",
       "</div>"
      ],
      "text/plain": [
       "    0  1467810369  Mon Apr 06 22:19:45 PDT 2009  NO_QUERY  _TheSpecialOne_  \\\n",
       "0   1  1467810672  Mon Apr 06 22:19:49 PDT 2009  NO_QUERY    scotthamilton   \n",
       "1   2  1467810917  Mon Apr 06 22:19:53 PDT 2009  NO_QUERY         mattycus   \n",
       "2   3  1467811184  Mon Apr 06 22:19:57 PDT 2009  NO_QUERY          ElleCTF   \n",
       "3   4  1467811193  Mon Apr 06 22:19:57 PDT 2009  NO_QUERY           Karoli   \n",
       "4   5  1467811372  Mon Apr 06 22:20:00 PDT 2009  NO_QUERY         joy_wolf   \n",
       "5   6  1467811592  Mon Apr 06 22:20:03 PDT 2009  NO_QUERY          mybirch   \n",
       "6   7  1467811594  Mon Apr 06 22:20:03 PDT 2009  NO_QUERY             coZZ   \n",
       "7   8  1467811795  Mon Apr 06 22:20:05 PDT 2009  NO_QUERY  2Hood4Hollywood   \n",
       "8   9  1467812025  Mon Apr 06 22:20:09 PDT 2009  NO_QUERY          mimismo   \n",
       "9  10  1467812416  Mon Apr 06 22:20:16 PDT 2009  NO_QUERY   erinx3leannexo   \n",
       "\n",
       "  @switchfoot http://twitpic.com/2y1zl - Awww, that's a bummer.  You shoulda got David Carr of Third Day to do it. ;D  \n",
       "0  is upset that he can't update his Facebook by ...                                                                   \n",
       "1  @Kenichan I dived many times for the ball. Man...                                                                   \n",
       "2    my whole body feels itchy and like its on fire                                                                    \n",
       "3  @nationwideclass no, it's not behaving at all....                                                                   \n",
       "4                      @Kwesidei not the whole crew                                                                    \n",
       "5                                        Need a hug                                                                    \n",
       "6  @LOLTrish hey  long time no see! Yes.. Rains a...                                                                   \n",
       "7               @Tatiana_K nope they didn't have it                                                                    \n",
       "8                          @twittera que me muera ?                                                                    \n",
       "9        spring break in plain city... it's snowing                                                                    "
      ]
     },
     "execution_count": 4,
     "metadata": {},
     "output_type": "execute_result"
    }
   ],
   "source": [
    "df.head(10)"
   ]
  },
  {
   "cell_type": "code",
   "execution_count": 5,
   "id": "0029c2b9",
   "metadata": {},
   "outputs": [
    {
     "data": {
      "text/html": [
       "<div>\n",
       "<style scoped>\n",
       "    .dataframe tbody tr th:only-of-type {\n",
       "        vertical-align: middle;\n",
       "    }\n",
       "\n",
       "    .dataframe tbody tr th {\n",
       "        vertical-align: top;\n",
       "    }\n",
       "\n",
       "    .dataframe thead th {\n",
       "        text-align: right;\n",
       "    }\n",
       "</style>\n",
       "<table border=\"1\" class=\"dataframe\">\n",
       "  <thead>\n",
       "    <tr style=\"text-align: right;\">\n",
       "      <th></th>\n",
       "      <th>0</th>\n",
       "      <th>1467810369</th>\n",
       "      <th>Mon Apr 06 22:19:45 PDT 2009</th>\n",
       "      <th>NO_QUERY</th>\n",
       "      <th>_TheSpecialOne_</th>\n",
       "      <th>@switchfoot http://twitpic.com/2y1zl - Awww, that's a bummer.  You shoulda got David Carr of Third Day to do it. ;D</th>\n",
       "    </tr>\n",
       "  </thead>\n",
       "  <tbody>\n",
       "    <tr>\n",
       "      <th>1599994</th>\n",
       "      <td>1599995</td>\n",
       "      <td>2193601966</td>\n",
       "      <td>Tue Jun 16 08:40:49 PDT 2009</td>\n",
       "      <td>NO_QUERY</td>\n",
       "      <td>AmandaMarie1028</td>\n",
       "      <td>Just woke up. Having no school is the best fee...</td>\n",
       "    </tr>\n",
       "    <tr>\n",
       "      <th>1599995</th>\n",
       "      <td>1599996</td>\n",
       "      <td>2193601969</td>\n",
       "      <td>Tue Jun 16 08:40:49 PDT 2009</td>\n",
       "      <td>NO_QUERY</td>\n",
       "      <td>TheWDBoards</td>\n",
       "      <td>TheWDB.com - Very cool to hear old Walt interv...</td>\n",
       "    </tr>\n",
       "    <tr>\n",
       "      <th>1599996</th>\n",
       "      <td>1599997</td>\n",
       "      <td>2193601991</td>\n",
       "      <td>Tue Jun 16 08:40:49 PDT 2009</td>\n",
       "      <td>NO_QUERY</td>\n",
       "      <td>bpbabe</td>\n",
       "      <td>Are you ready for your MoJo Makeover? Ask me f...</td>\n",
       "    </tr>\n",
       "    <tr>\n",
       "      <th>1599997</th>\n",
       "      <td>1599998</td>\n",
       "      <td>2193602064</td>\n",
       "      <td>Tue Jun 16 08:40:49 PDT 2009</td>\n",
       "      <td>NO_QUERY</td>\n",
       "      <td>tinydiamondz</td>\n",
       "      <td>Happy 38th Birthday to my boo of alll time!!! ...</td>\n",
       "    </tr>\n",
       "    <tr>\n",
       "      <th>1599998</th>\n",
       "      <td>1599999</td>\n",
       "      <td>2193602129</td>\n",
       "      <td>Tue Jun 16 08:40:50 PDT 2009</td>\n",
       "      <td>NO_QUERY</td>\n",
       "      <td>RyanTrevMorris</td>\n",
       "      <td>happy #charitytuesday @theNSPCC @SparksCharity...</td>\n",
       "    </tr>\n",
       "  </tbody>\n",
       "</table>\n",
       "</div>"
      ],
      "text/plain": [
       "               0  1467810369  Mon Apr 06 22:19:45 PDT 2009  NO_QUERY  \\\n",
       "1599994  1599995  2193601966  Tue Jun 16 08:40:49 PDT 2009  NO_QUERY   \n",
       "1599995  1599996  2193601969  Tue Jun 16 08:40:49 PDT 2009  NO_QUERY   \n",
       "1599996  1599997  2193601991  Tue Jun 16 08:40:49 PDT 2009  NO_QUERY   \n",
       "1599997  1599998  2193602064  Tue Jun 16 08:40:49 PDT 2009  NO_QUERY   \n",
       "1599998  1599999  2193602129  Tue Jun 16 08:40:50 PDT 2009  NO_QUERY   \n",
       "\n",
       "         _TheSpecialOne_  \\\n",
       "1599994  AmandaMarie1028   \n",
       "1599995      TheWDBoards   \n",
       "1599996           bpbabe   \n",
       "1599997     tinydiamondz   \n",
       "1599998   RyanTrevMorris   \n",
       "\n",
       "        @switchfoot http://twitpic.com/2y1zl - Awww, that's a bummer.  You shoulda got David Carr of Third Day to do it. ;D  \n",
       "1599994  Just woke up. Having no school is the best fee...                                                                   \n",
       "1599995  TheWDB.com - Very cool to hear old Walt interv...                                                                   \n",
       "1599996  Are you ready for your MoJo Makeover? Ask me f...                                                                   \n",
       "1599997  Happy 38th Birthday to my boo of alll time!!! ...                                                                   \n",
       "1599998  happy #charitytuesday @theNSPCC @SparksCharity...                                                                   "
      ]
     },
     "execution_count": 5,
     "metadata": {},
     "output_type": "execute_result"
    }
   ],
   "source": [
    "df.tail(5)"
   ]
  },
  {
   "cell_type": "code",
   "execution_count": 6,
   "id": "f72271d8",
   "metadata": {},
   "outputs": [
    {
     "name": "stdout",
     "output_type": "stream",
     "text": [
      "Total tweets in the dataset: 1.599999 Million\n"
     ]
    }
   ],
   "source": [
    "print(\"Total tweets in the dataset: {} Million\".format(df.shape[0]/1000000.0))"
   ]
  },
  {
   "cell_type": "code",
   "execution_count": 7,
   "id": "a453ae5d",
   "metadata": {},
   "outputs": [
    {
     "data": {
      "text/plain": [
       "(1599999, 6)"
      ]
     },
     "execution_count": 7,
     "metadata": {},
     "output_type": "execute_result"
    }
   ],
   "source": [
    "df.shape"
   ]
  },
  {
   "cell_type": "code",
   "execution_count": 8,
   "id": "047297b8",
   "metadata": {},
   "outputs": [
    {
     "name": "stdout",
     "output_type": "stream",
     "text": [
      "<class 'pandas.core.frame.DataFrame'>\n",
      "RangeIndex: 1599999 entries, 0 to 1599998\n",
      "Data columns (total 6 columns):\n",
      " #   Column                                                                                                               Non-Null Count    Dtype \n",
      "---  ------                                                                                                               --------------    ----- \n",
      " 0   0                                                                                                                    1599999 non-null  int64 \n",
      " 1   1467810369                                                                                                           1599999 non-null  int64 \n",
      " 2   Mon Apr 06 22:19:45 PDT 2009                                                                                         1599999 non-null  object\n",
      " 3   NO_QUERY                                                                                                             1599999 non-null  object\n",
      " 4   _TheSpecialOne_                                                                                                      1599999 non-null  object\n",
      " 5   @switchfoot http://twitpic.com/2y1zl - Awww, that's a bummer.  You shoulda got David Carr of Third Day to do it. ;D  1599999 non-null  object\n",
      "dtypes: int64(2), object(4)\n",
      "memory usage: 73.2+ MB\n"
     ]
    }
   ],
   "source": [
    "df.info()"
   ]
  },
  {
   "cell_type": "code",
   "execution_count": 9,
   "id": "c6476c0f",
   "metadata": {},
   "outputs": [
    {
     "data": {
      "text/plain": [
       "Index(['0', '1467810369', 'Mon Apr 06 22:19:45 PDT 2009', 'NO_QUERY',\n",
       "       '_TheSpecialOne_',\n",
       "       '@switchfoot http://twitpic.com/2y1zl - Awww, that's a bummer.  You shoulda got David Carr of Third Day to do it. ;D'],\n",
       "      dtype='object')"
      ]
     },
     "execution_count": 9,
     "metadata": {},
     "output_type": "execute_result"
    }
   ],
   "source": [
    "df.columns"
   ]
  },
  {
   "cell_type": "markdown",
   "id": "bf3ff742",
   "metadata": {},
   "source": [
    "I will rename the columns for a clearer visualization"
   ]
  },
  {
   "cell_type": "code",
   "execution_count": 10,
   "id": "99803e49",
   "metadata": {},
   "outputs": [],
   "source": [
    "df.rename(columns = {'0': 'index', '1467810369':'ids', 'Mon Apr 06 22:19:45 PDT 2009': 'date', 'NO_QUERY': 'flag',\n",
    "                    '_TheSpecialOne_':'user', \"@switchfoot http://twitpic.com/2y1zl - Awww, that's a bummer.  You shoulda got David Carr of Third Day to do it. ;D\":'text'}, inplace = True)"
   ]
  },
  {
   "cell_type": "code",
   "execution_count": 11,
   "id": "56ca1ca2",
   "metadata": {},
   "outputs": [
    {
     "name": "stdout",
     "output_type": "stream",
     "text": [
      "Index(['index', 'ids', 'date', 'flag', 'user', 'text'], dtype='object')\n"
     ]
    }
   ],
   "source": [
    "print(df.columns)"
   ]
  },
  {
   "cell_type": "code",
   "execution_count": 12,
   "id": "b0af5c31",
   "metadata": {},
   "outputs": [
    {
     "data": {
      "text/html": [
       "<div>\n",
       "<style scoped>\n",
       "    .dataframe tbody tr th:only-of-type {\n",
       "        vertical-align: middle;\n",
       "    }\n",
       "\n",
       "    .dataframe tbody tr th {\n",
       "        vertical-align: top;\n",
       "    }\n",
       "\n",
       "    .dataframe thead th {\n",
       "        text-align: right;\n",
       "    }\n",
       "</style>\n",
       "<table border=\"1\" class=\"dataframe\">\n",
       "  <thead>\n",
       "    <tr style=\"text-align: right;\">\n",
       "      <th></th>\n",
       "      <th>index</th>\n",
       "      <th>ids</th>\n",
       "      <th>date</th>\n",
       "      <th>flag</th>\n",
       "      <th>user</th>\n",
       "      <th>text</th>\n",
       "    </tr>\n",
       "  </thead>\n",
       "  <tbody>\n",
       "    <tr>\n",
       "      <th>0</th>\n",
       "      <td>1</td>\n",
       "      <td>1467810672</td>\n",
       "      <td>Mon Apr 06 22:19:49 PDT 2009</td>\n",
       "      <td>NO_QUERY</td>\n",
       "      <td>scotthamilton</td>\n",
       "      <td>is upset that he can't update his Facebook by ...</td>\n",
       "    </tr>\n",
       "    <tr>\n",
       "      <th>1</th>\n",
       "      <td>2</td>\n",
       "      <td>1467810917</td>\n",
       "      <td>Mon Apr 06 22:19:53 PDT 2009</td>\n",
       "      <td>NO_QUERY</td>\n",
       "      <td>mattycus</td>\n",
       "      <td>@Kenichan I dived many times for the ball. Man...</td>\n",
       "    </tr>\n",
       "    <tr>\n",
       "      <th>2</th>\n",
       "      <td>3</td>\n",
       "      <td>1467811184</td>\n",
       "      <td>Mon Apr 06 22:19:57 PDT 2009</td>\n",
       "      <td>NO_QUERY</td>\n",
       "      <td>ElleCTF</td>\n",
       "      <td>my whole body feels itchy and like its on fire</td>\n",
       "    </tr>\n",
       "    <tr>\n",
       "      <th>3</th>\n",
       "      <td>4</td>\n",
       "      <td>1467811193</td>\n",
       "      <td>Mon Apr 06 22:19:57 PDT 2009</td>\n",
       "      <td>NO_QUERY</td>\n",
       "      <td>Karoli</td>\n",
       "      <td>@nationwideclass no, it's not behaving at all....</td>\n",
       "    </tr>\n",
       "    <tr>\n",
       "      <th>4</th>\n",
       "      <td>5</td>\n",
       "      <td>1467811372</td>\n",
       "      <td>Mon Apr 06 22:20:00 PDT 2009</td>\n",
       "      <td>NO_QUERY</td>\n",
       "      <td>joy_wolf</td>\n",
       "      <td>@Kwesidei not the whole crew</td>\n",
       "    </tr>\n",
       "    <tr>\n",
       "      <th>...</th>\n",
       "      <td>...</td>\n",
       "      <td>...</td>\n",
       "      <td>...</td>\n",
       "      <td>...</td>\n",
       "      <td>...</td>\n",
       "      <td>...</td>\n",
       "    </tr>\n",
       "    <tr>\n",
       "      <th>1599994</th>\n",
       "      <td>1599995</td>\n",
       "      <td>2193601966</td>\n",
       "      <td>Tue Jun 16 08:40:49 PDT 2009</td>\n",
       "      <td>NO_QUERY</td>\n",
       "      <td>AmandaMarie1028</td>\n",
       "      <td>Just woke up. Having no school is the best fee...</td>\n",
       "    </tr>\n",
       "    <tr>\n",
       "      <th>1599995</th>\n",
       "      <td>1599996</td>\n",
       "      <td>2193601969</td>\n",
       "      <td>Tue Jun 16 08:40:49 PDT 2009</td>\n",
       "      <td>NO_QUERY</td>\n",
       "      <td>TheWDBoards</td>\n",
       "      <td>TheWDB.com - Very cool to hear old Walt interv...</td>\n",
       "    </tr>\n",
       "    <tr>\n",
       "      <th>1599996</th>\n",
       "      <td>1599997</td>\n",
       "      <td>2193601991</td>\n",
       "      <td>Tue Jun 16 08:40:49 PDT 2009</td>\n",
       "      <td>NO_QUERY</td>\n",
       "      <td>bpbabe</td>\n",
       "      <td>Are you ready for your MoJo Makeover? Ask me f...</td>\n",
       "    </tr>\n",
       "    <tr>\n",
       "      <th>1599997</th>\n",
       "      <td>1599998</td>\n",
       "      <td>2193602064</td>\n",
       "      <td>Tue Jun 16 08:40:49 PDT 2009</td>\n",
       "      <td>NO_QUERY</td>\n",
       "      <td>tinydiamondz</td>\n",
       "      <td>Happy 38th Birthday to my boo of alll time!!! ...</td>\n",
       "    </tr>\n",
       "    <tr>\n",
       "      <th>1599998</th>\n",
       "      <td>1599999</td>\n",
       "      <td>2193602129</td>\n",
       "      <td>Tue Jun 16 08:40:50 PDT 2009</td>\n",
       "      <td>NO_QUERY</td>\n",
       "      <td>RyanTrevMorris</td>\n",
       "      <td>happy #charitytuesday @theNSPCC @SparksCharity...</td>\n",
       "    </tr>\n",
       "  </tbody>\n",
       "</table>\n",
       "<p>1599999 rows × 6 columns</p>\n",
       "</div>"
      ],
      "text/plain": [
       "           index         ids                          date      flag  \\\n",
       "0              1  1467810672  Mon Apr 06 22:19:49 PDT 2009  NO_QUERY   \n",
       "1              2  1467810917  Mon Apr 06 22:19:53 PDT 2009  NO_QUERY   \n",
       "2              3  1467811184  Mon Apr 06 22:19:57 PDT 2009  NO_QUERY   \n",
       "3              4  1467811193  Mon Apr 06 22:19:57 PDT 2009  NO_QUERY   \n",
       "4              5  1467811372  Mon Apr 06 22:20:00 PDT 2009  NO_QUERY   \n",
       "...          ...         ...                           ...       ...   \n",
       "1599994  1599995  2193601966  Tue Jun 16 08:40:49 PDT 2009  NO_QUERY   \n",
       "1599995  1599996  2193601969  Tue Jun 16 08:40:49 PDT 2009  NO_QUERY   \n",
       "1599996  1599997  2193601991  Tue Jun 16 08:40:49 PDT 2009  NO_QUERY   \n",
       "1599997  1599998  2193602064  Tue Jun 16 08:40:49 PDT 2009  NO_QUERY   \n",
       "1599998  1599999  2193602129  Tue Jun 16 08:40:50 PDT 2009  NO_QUERY   \n",
       "\n",
       "                    user                                               text  \n",
       "0          scotthamilton  is upset that he can't update his Facebook by ...  \n",
       "1               mattycus  @Kenichan I dived many times for the ball. Man...  \n",
       "2                ElleCTF    my whole body feels itchy and like its on fire   \n",
       "3                 Karoli  @nationwideclass no, it's not behaving at all....  \n",
       "4               joy_wolf                      @Kwesidei not the whole crew   \n",
       "...                  ...                                                ...  \n",
       "1599994  AmandaMarie1028  Just woke up. Having no school is the best fee...  \n",
       "1599995      TheWDBoards  TheWDB.com - Very cool to hear old Walt interv...  \n",
       "1599996           bpbabe  Are you ready for your MoJo Makeover? Ask me f...  \n",
       "1599997     tinydiamondz  Happy 38th Birthday to my boo of alll time!!! ...  \n",
       "1599998   RyanTrevMorris  happy #charitytuesday @theNSPCC @SparksCharity...  \n",
       "\n",
       "[1599999 rows x 6 columns]"
      ]
     },
     "execution_count": 12,
     "metadata": {},
     "output_type": "execute_result"
    }
   ],
   "source": [
    "df"
   ]
  },
  {
   "cell_type": "code",
   "execution_count": 13,
   "id": "e799913b",
   "metadata": {},
   "outputs": [
    {
     "data": {
      "text/html": [
       "<div>\n",
       "<style scoped>\n",
       "    .dataframe tbody tr th:only-of-type {\n",
       "        vertical-align: middle;\n",
       "    }\n",
       "\n",
       "    .dataframe tbody tr th {\n",
       "        vertical-align: top;\n",
       "    }\n",
       "\n",
       "    .dataframe thead th {\n",
       "        text-align: right;\n",
       "    }\n",
       "</style>\n",
       "<table border=\"1\" class=\"dataframe\">\n",
       "  <thead>\n",
       "    <tr style=\"text-align: right;\">\n",
       "      <th></th>\n",
       "      <th>index</th>\n",
       "      <th>ids</th>\n",
       "    </tr>\n",
       "  </thead>\n",
       "  <tbody>\n",
       "    <tr>\n",
       "      <th>count</th>\n",
       "      <td>1.599999e+06</td>\n",
       "      <td>1.599999e+06</td>\n",
       "    </tr>\n",
       "    <tr>\n",
       "      <th>mean</th>\n",
       "      <td>8.000000e+05</td>\n",
       "      <td>1.998818e+09</td>\n",
       "    </tr>\n",
       "    <tr>\n",
       "      <th>std</th>\n",
       "      <td>4.618801e+05</td>\n",
       "      <td>1.935757e+08</td>\n",
       "    </tr>\n",
       "    <tr>\n",
       "      <th>min</th>\n",
       "      <td>1.000000e+00</td>\n",
       "      <td>1.467811e+09</td>\n",
       "    </tr>\n",
       "    <tr>\n",
       "      <th>25%</th>\n",
       "      <td>4.000005e+05</td>\n",
       "      <td>1.956916e+09</td>\n",
       "    </tr>\n",
       "    <tr>\n",
       "      <th>50%</th>\n",
       "      <td>8.000000e+05</td>\n",
       "      <td>2.002102e+09</td>\n",
       "    </tr>\n",
       "    <tr>\n",
       "      <th>75%</th>\n",
       "      <td>1.200000e+06</td>\n",
       "      <td>2.177059e+09</td>\n",
       "    </tr>\n",
       "    <tr>\n",
       "      <th>max</th>\n",
       "      <td>1.599999e+06</td>\n",
       "      <td>2.329206e+09</td>\n",
       "    </tr>\n",
       "  </tbody>\n",
       "</table>\n",
       "</div>"
      ],
      "text/plain": [
       "              index           ids\n",
       "count  1.599999e+06  1.599999e+06\n",
       "mean   8.000000e+05  1.998818e+09\n",
       "std    4.618801e+05  1.935757e+08\n",
       "min    1.000000e+00  1.467811e+09\n",
       "25%    4.000005e+05  1.956916e+09\n",
       "50%    8.000000e+05  2.002102e+09\n",
       "75%    1.200000e+06  2.177059e+09\n",
       "max    1.599999e+06  2.329206e+09"
      ]
     },
     "execution_count": 13,
     "metadata": {},
     "output_type": "execute_result"
    }
   ],
   "source": [
    "df.describe()"
   ]
  },
  {
   "cell_type": "code",
   "execution_count": 14,
   "id": "43bb1ce2",
   "metadata": {},
   "outputs": [
    {
     "name": "stdout",
     "output_type": "stream",
     "text": [
      "length of data is 1599999\n"
     ]
    }
   ],
   "source": [
    "print('length of data is', len(df))"
   ]
  },
  {
   "cell_type": "code",
   "execution_count": 15,
   "id": "ae17fe12",
   "metadata": {},
   "outputs": [
    {
     "data": {
      "text/plain": [
       "index     int64\n",
       "ids       int64\n",
       "date     object\n",
       "flag     object\n",
       "user     object\n",
       "text     object\n",
       "dtype: object"
      ]
     },
     "execution_count": 15,
     "metadata": {},
     "output_type": "execute_result"
    }
   ],
   "source": [
    "df.dtypes"
   ]
  },
  {
   "cell_type": "code",
   "execution_count": 16,
   "id": "14a3a777",
   "metadata": {},
   "outputs": [
    {
     "data": {
      "text/plain": [
       "object    4\n",
       "int64     2\n",
       "Name: count, dtype: int64"
      ]
     },
     "execution_count": 16,
     "metadata": {},
     "output_type": "execute_result"
    }
   ],
   "source": [
    "df.dtypes.value_counts()"
   ]
  },
  {
   "cell_type": "markdown",
   "id": "30a66a46",
   "metadata": {},
   "source": [
    "### Number of missing values per feature\n",
    "We will now check how missing values are in our remaining features and then decide whether to drop them or replace them with a meaningful value.\n",
    "\n",
    "### Missing Values:\n",
    "By calling the .isnull().sum(), isnull().mean(), value_counts() and .describe() functions we can check the number of standard missing values in our DataFrame."
   ]
  },
  {
   "cell_type": "code",
   "execution_count": 17,
   "id": "01dbc1a3",
   "metadata": {},
   "outputs": [
    {
     "data": {
      "text/plain": [
       "index    0\n",
       "ids      0\n",
       "date     0\n",
       "flag     0\n",
       "user     0\n",
       "text     0\n",
       "dtype: int64"
      ]
     },
     "execution_count": 17,
     "metadata": {},
     "output_type": "execute_result"
    }
   ],
   "source": [
    "count_missing = ((df.isnull().sum()).sort_values(ascending=True))\n",
    "count_missing"
   ]
  },
  {
   "cell_type": "markdown",
   "id": "21e980ce",
   "metadata": {},
   "source": [
    "### Rows and columns in the dataset"
   ]
  },
  {
   "cell_type": "code",
   "execution_count": 18,
   "id": "5b268bb0",
   "metadata": {},
   "outputs": [
    {
     "name": "stdout",
     "output_type": "stream",
     "text": [
      "Count of columns in the data is:   6\n",
      "Count of rows in the data is:   1599999\n"
     ]
    }
   ],
   "source": [
    "print('Count of columns in the data is:  ', len(df.columns))\n",
    "print('Count of rows in the data is:  ', len(df))"
   ]
  },
  {
   "cell_type": "markdown",
   "id": "b965b6b2",
   "metadata": {},
   "source": [
    "### Number of distinct values in each feature"
   ]
  },
  {
   "cell_type": "code",
   "execution_count": 19,
   "id": "dbe27dc4",
   "metadata": {},
   "outputs": [
    {
     "name": "stdout",
     "output_type": "stream",
     "text": [
      "index : Number of Distinct Values:  1599999\n",
      "ids : Number of Distinct Values:  1598314\n",
      "date : Number of Distinct Values:  774362\n",
      "flag : Number of Distinct Values:  1\n",
      "user : Number of Distinct Values:  659775\n",
      "text : Number of Distinct Values:  1581465\n"
     ]
    }
   ],
   "source": [
    "for col in df.columns:\n",
    "    print(col, ': Number of Distinct Values: ', len(df[col].unique()))"
   ]
  },
  {
   "cell_type": "markdown",
   "id": "7fde1d6a",
   "metadata": {},
   "source": [
    "### Print the distinct values in each feature."
   ]
  },
  {
   "cell_type": "code",
   "execution_count": 20,
   "id": "0aa10ab1",
   "metadata": {},
   "outputs": [
    {
     "name": "stdout",
     "output_type": "stream",
     "text": [
      "COLUMN NAME:  index :\n",
      "[      1       2       3 ... 1599997 1599998 1599999]\n",
      "\n",
      "\n",
      "COLUMN NAME:  ids :\n",
      "[1467810672 1467810917 1467811184 ... 2193601991 2193602064 2193602129]\n",
      "\n",
      "\n",
      "COLUMN NAME:  date :\n",
      "['Mon Apr 06 22:19:49 PDT 2009' 'Mon Apr 06 22:19:53 PDT 2009'\n",
      " 'Mon Apr 06 22:19:57 PDT 2009' ... 'Tue Jun 16 08:38:58 PDT 2009'\n",
      " 'Tue Jun 16 08:39:00 PDT 2009' 'Tue Jun 16 08:40:50 PDT 2009']\n",
      "\n",
      "\n",
      "COLUMN NAME:  flag :\n",
      "['NO_QUERY']\n",
      "\n",
      "\n",
      "COLUMN NAME:  user :\n",
      "['scotthamilton' 'mattycus' 'ElleCTF' ... 'EvolveTom' 'AmandaMarie1028'\n",
      " 'bpbabe']\n",
      "\n",
      "\n",
      "COLUMN NAME:  text :\n",
      "[\"is upset that he can't update his Facebook by texting it... and might cry as a result  School today also. Blah!\"\n",
      " '@Kenichan I dived many times for the ball. Managed to save 50%  The rest go out of bounds'\n",
      " 'my whole body feels itchy and like its on fire ' ...\n",
      " 'Are you ready for your MoJo Makeover? Ask me for details '\n",
      " 'Happy 38th Birthday to my boo of alll time!!! Tupac Amaru Shakur '\n",
      " 'happy #charitytuesday @theNSPCC @SparksCharity @SpeakingUpH4H ']\n",
      "\n",
      "\n"
     ]
    }
   ],
   "source": [
    "for col in df:\n",
    "    print('COLUMN NAME: ', col,':')\n",
    "    print(df[col].unique())\n",
    "    print('\\n')"
   ]
  },
  {
   "cell_type": "markdown",
   "id": "7cbd5e85",
   "metadata": {},
   "source": [
    "I will now drop the column index as there is no need for my findings"
   ]
  },
  {
   "cell_type": "code",
   "execution_count": 21,
   "id": "ab022bd7",
   "metadata": {},
   "outputs": [],
   "source": [
    "df = df.drop(columns=['index', 'flag'])"
   ]
  },
  {
   "cell_type": "code",
   "execution_count": 22,
   "id": "334eb32b",
   "metadata": {},
   "outputs": [
    {
     "data": {
      "text/html": [
       "<div>\n",
       "<style scoped>\n",
       "    .dataframe tbody tr th:only-of-type {\n",
       "        vertical-align: middle;\n",
       "    }\n",
       "\n",
       "    .dataframe tbody tr th {\n",
       "        vertical-align: top;\n",
       "    }\n",
       "\n",
       "    .dataframe thead th {\n",
       "        text-align: right;\n",
       "    }\n",
       "</style>\n",
       "<table border=\"1\" class=\"dataframe\">\n",
       "  <thead>\n",
       "    <tr style=\"text-align: right;\">\n",
       "      <th></th>\n",
       "      <th>ids</th>\n",
       "      <th>date</th>\n",
       "      <th>user</th>\n",
       "      <th>text</th>\n",
       "    </tr>\n",
       "  </thead>\n",
       "  <tbody>\n",
       "    <tr>\n",
       "      <th>0</th>\n",
       "      <td>1467810672</td>\n",
       "      <td>Mon Apr 06 22:19:49 PDT 2009</td>\n",
       "      <td>scotthamilton</td>\n",
       "      <td>is upset that he can't update his Facebook by ...</td>\n",
       "    </tr>\n",
       "    <tr>\n",
       "      <th>1</th>\n",
       "      <td>1467810917</td>\n",
       "      <td>Mon Apr 06 22:19:53 PDT 2009</td>\n",
       "      <td>mattycus</td>\n",
       "      <td>@Kenichan I dived many times for the ball. Man...</td>\n",
       "    </tr>\n",
       "    <tr>\n",
       "      <th>2</th>\n",
       "      <td>1467811184</td>\n",
       "      <td>Mon Apr 06 22:19:57 PDT 2009</td>\n",
       "      <td>ElleCTF</td>\n",
       "      <td>my whole body feels itchy and like its on fire</td>\n",
       "    </tr>\n",
       "    <tr>\n",
       "      <th>3</th>\n",
       "      <td>1467811193</td>\n",
       "      <td>Mon Apr 06 22:19:57 PDT 2009</td>\n",
       "      <td>Karoli</td>\n",
       "      <td>@nationwideclass no, it's not behaving at all....</td>\n",
       "    </tr>\n",
       "    <tr>\n",
       "      <th>4</th>\n",
       "      <td>1467811372</td>\n",
       "      <td>Mon Apr 06 22:20:00 PDT 2009</td>\n",
       "      <td>joy_wolf</td>\n",
       "      <td>@Kwesidei not the whole crew</td>\n",
       "    </tr>\n",
       "  </tbody>\n",
       "</table>\n",
       "</div>"
      ],
      "text/plain": [
       "          ids                          date           user  \\\n",
       "0  1467810672  Mon Apr 06 22:19:49 PDT 2009  scotthamilton   \n",
       "1  1467810917  Mon Apr 06 22:19:53 PDT 2009       mattycus   \n",
       "2  1467811184  Mon Apr 06 22:19:57 PDT 2009        ElleCTF   \n",
       "3  1467811193  Mon Apr 06 22:19:57 PDT 2009         Karoli   \n",
       "4  1467811372  Mon Apr 06 22:20:00 PDT 2009       joy_wolf   \n",
       "\n",
       "                                                text  \n",
       "0  is upset that he can't update his Facebook by ...  \n",
       "1  @Kenichan I dived many times for the ball. Man...  \n",
       "2    my whole body feels itchy and like its on fire   \n",
       "3  @nationwideclass no, it's not behaving at all....  \n",
       "4                      @Kwesidei not the whole crew   "
      ]
     },
     "execution_count": 22,
     "metadata": {},
     "output_type": "execute_result"
    }
   ],
   "source": [
    "df.head()"
   ]
  },
  {
   "cell_type": "markdown",
   "id": "5af95029",
   "metadata": {},
   "source": [
    "For a easier understanding of column date, I will now organize column date in the following order Year, Month, Day, Hour, Minute, Second"
   ]
  },
  {
   "cell_type": "code",
   "execution_count": 23,
   "id": "e6cbb644",
   "metadata": {},
   "outputs": [],
   "source": [
    "df['date'] = pd.to_datetime(df['date'])\n"
   ]
  },
  {
   "cell_type": "code",
   "execution_count": 24,
   "id": "45df3fbf",
   "metadata": {},
   "outputs": [
    {
     "data": {
      "text/plain": [
       "0         2009-04-06 22:19:49\n",
       "1         2009-04-06 22:19:53\n",
       "2         2009-04-06 22:19:57\n",
       "3         2009-04-06 22:19:57\n",
       "4         2009-04-06 22:20:00\n",
       "                  ...        \n",
       "1599994   2009-06-16 08:40:49\n",
       "1599995   2009-06-16 08:40:49\n",
       "1599996   2009-06-16 08:40:49\n",
       "1599997   2009-06-16 08:40:49\n",
       "1599998   2009-06-16 08:40:50\n",
       "Name: date, Length: 1599999, dtype: datetime64[ns]"
      ]
     },
     "execution_count": 24,
     "metadata": {},
     "output_type": "execute_result"
    }
   ],
   "source": [
    "pd.to_datetime(df['date'].astype(str), format='%Y-%m-%d %H:%M:%S')"
   ]
  },
  {
   "cell_type": "code",
   "execution_count": 25,
   "id": "f3bf4227",
   "metadata": {},
   "outputs": [
    {
     "data": {
      "text/html": [
       "<div>\n",
       "<style scoped>\n",
       "    .dataframe tbody tr th:only-of-type {\n",
       "        vertical-align: middle;\n",
       "    }\n",
       "\n",
       "    .dataframe tbody tr th {\n",
       "        vertical-align: top;\n",
       "    }\n",
       "\n",
       "    .dataframe thead th {\n",
       "        text-align: right;\n",
       "    }\n",
       "</style>\n",
       "<table border=\"1\" class=\"dataframe\">\n",
       "  <thead>\n",
       "    <tr style=\"text-align: right;\">\n",
       "      <th></th>\n",
       "      <th>ids</th>\n",
       "      <th>date</th>\n",
       "      <th>user</th>\n",
       "      <th>text</th>\n",
       "    </tr>\n",
       "  </thead>\n",
       "  <tbody>\n",
       "    <tr>\n",
       "      <th>0</th>\n",
       "      <td>1467810672</td>\n",
       "      <td>2009-04-06 22:19:49</td>\n",
       "      <td>scotthamilton</td>\n",
       "      <td>is upset that he can't update his Facebook by ...</td>\n",
       "    </tr>\n",
       "    <tr>\n",
       "      <th>1</th>\n",
       "      <td>1467810917</td>\n",
       "      <td>2009-04-06 22:19:53</td>\n",
       "      <td>mattycus</td>\n",
       "      <td>@Kenichan I dived many times for the ball. Man...</td>\n",
       "    </tr>\n",
       "    <tr>\n",
       "      <th>2</th>\n",
       "      <td>1467811184</td>\n",
       "      <td>2009-04-06 22:19:57</td>\n",
       "      <td>ElleCTF</td>\n",
       "      <td>my whole body feels itchy and like its on fire</td>\n",
       "    </tr>\n",
       "    <tr>\n",
       "      <th>3</th>\n",
       "      <td>1467811193</td>\n",
       "      <td>2009-04-06 22:19:57</td>\n",
       "      <td>Karoli</td>\n",
       "      <td>@nationwideclass no, it's not behaving at all....</td>\n",
       "    </tr>\n",
       "    <tr>\n",
       "      <th>4</th>\n",
       "      <td>1467811372</td>\n",
       "      <td>2009-04-06 22:20:00</td>\n",
       "      <td>joy_wolf</td>\n",
       "      <td>@Kwesidei not the whole crew</td>\n",
       "    </tr>\n",
       "    <tr>\n",
       "      <th>...</th>\n",
       "      <td>...</td>\n",
       "      <td>...</td>\n",
       "      <td>...</td>\n",
       "      <td>...</td>\n",
       "    </tr>\n",
       "    <tr>\n",
       "      <th>1599994</th>\n",
       "      <td>2193601966</td>\n",
       "      <td>2009-06-16 08:40:49</td>\n",
       "      <td>AmandaMarie1028</td>\n",
       "      <td>Just woke up. Having no school is the best fee...</td>\n",
       "    </tr>\n",
       "    <tr>\n",
       "      <th>1599995</th>\n",
       "      <td>2193601969</td>\n",
       "      <td>2009-06-16 08:40:49</td>\n",
       "      <td>TheWDBoards</td>\n",
       "      <td>TheWDB.com - Very cool to hear old Walt interv...</td>\n",
       "    </tr>\n",
       "    <tr>\n",
       "      <th>1599996</th>\n",
       "      <td>2193601991</td>\n",
       "      <td>2009-06-16 08:40:49</td>\n",
       "      <td>bpbabe</td>\n",
       "      <td>Are you ready for your MoJo Makeover? Ask me f...</td>\n",
       "    </tr>\n",
       "    <tr>\n",
       "      <th>1599997</th>\n",
       "      <td>2193602064</td>\n",
       "      <td>2009-06-16 08:40:49</td>\n",
       "      <td>tinydiamondz</td>\n",
       "      <td>Happy 38th Birthday to my boo of alll time!!! ...</td>\n",
       "    </tr>\n",
       "    <tr>\n",
       "      <th>1599998</th>\n",
       "      <td>2193602129</td>\n",
       "      <td>2009-06-16 08:40:50</td>\n",
       "      <td>RyanTrevMorris</td>\n",
       "      <td>happy #charitytuesday @theNSPCC @SparksCharity...</td>\n",
       "    </tr>\n",
       "  </tbody>\n",
       "</table>\n",
       "<p>1599999 rows × 4 columns</p>\n",
       "</div>"
      ],
      "text/plain": [
       "                ids                date             user  \\\n",
       "0        1467810672 2009-04-06 22:19:49    scotthamilton   \n",
       "1        1467810917 2009-04-06 22:19:53         mattycus   \n",
       "2        1467811184 2009-04-06 22:19:57          ElleCTF   \n",
       "3        1467811193 2009-04-06 22:19:57           Karoli   \n",
       "4        1467811372 2009-04-06 22:20:00         joy_wolf   \n",
       "...             ...                 ...              ...   \n",
       "1599994  2193601966 2009-06-16 08:40:49  AmandaMarie1028   \n",
       "1599995  2193601969 2009-06-16 08:40:49      TheWDBoards   \n",
       "1599996  2193601991 2009-06-16 08:40:49           bpbabe   \n",
       "1599997  2193602064 2009-06-16 08:40:49     tinydiamondz   \n",
       "1599998  2193602129 2009-06-16 08:40:50   RyanTrevMorris   \n",
       "\n",
       "                                                      text  \n",
       "0        is upset that he can't update his Facebook by ...  \n",
       "1        @Kenichan I dived many times for the ball. Man...  \n",
       "2          my whole body feels itchy and like its on fire   \n",
       "3        @nationwideclass no, it's not behaving at all....  \n",
       "4                            @Kwesidei not the whole crew   \n",
       "...                                                    ...  \n",
       "1599994  Just woke up. Having no school is the best fee...  \n",
       "1599995  TheWDB.com - Very cool to hear old Walt interv...  \n",
       "1599996  Are you ready for your MoJo Makeover? Ask me f...  \n",
       "1599997  Happy 38th Birthday to my boo of alll time!!! ...  \n",
       "1599998  happy #charitytuesday @theNSPCC @SparksCharity...  \n",
       "\n",
       "[1599999 rows x 4 columns]"
      ]
     },
     "execution_count": 25,
     "metadata": {},
     "output_type": "execute_result"
    }
   ],
   "source": [
    "df"
   ]
  },
  {
   "cell_type": "markdown",
   "id": "842c1534",
   "metadata": {},
   "source": [
    "I will visualize how many Qualitative features are there in the dataset"
   ]
  },
  {
   "cell_type": "code",
   "execution_count": 26,
   "id": "f81af34f",
   "metadata": {},
   "outputs": [
    {
     "data": {
      "text/plain": [
       "[]"
      ]
     },
     "execution_count": 26,
     "metadata": {},
     "output_type": "execute_result"
    }
   ],
   "source": [
    "qualitative=[feature for feature in df.columns if len(df[feature].unique())<=10]\n",
    "qualitative"
   ]
  },
  {
   "cell_type": "markdown",
   "id": "0af680c7",
   "metadata": {},
   "source": [
    "As we can see, there is 1 qualitative feature in the dataset\n",
    "\n",
    "I will now analise the amount of unique values in the qualitative features\n",
    "\n",
    "Quantitative data represents numerical data and qualitative represents Categorical data"
   ]
  },
  {
   "cell_type": "code",
   "execution_count": 27,
   "id": "813521f8",
   "metadata": {},
   "outputs": [],
   "source": [
    "for feature in qualitative:\n",
    "    print(feature)\n",
    "    print(df[feature].unique())"
   ]
  },
  {
   "cell_type": "markdown",
   "id": "b5ea1746",
   "metadata": {},
   "source": [
    "Flag feature has 1 unique qualitative value."
   ]
  },
  {
   "cell_type": "markdown",
   "id": "fbbc368c",
   "metadata": {},
   "source": [
    "The following code tells me the amount of quantitative variables in the dataframe."
   ]
  },
  {
   "cell_type": "code",
   "execution_count": 28,
   "id": "6268ec93",
   "metadata": {},
   "outputs": [
    {
     "data": {
      "text/plain": [
       "['ids', 'date']"
      ]
     },
     "execution_count": 28,
     "metadata": {},
     "output_type": "execute_result"
    }
   ],
   "source": [
    "quantitative=[feature for feature in df.columns if df[feature].dtype!='O' and\n",
    "             len(df[feature].unique())>10]\n",
    "quantitative"
   ]
  },
  {
   "cell_type": "markdown",
   "id": "d19d165f",
   "metadata": {},
   "source": [
    "I will now use Histogram to visualize the distribution of quantitative features."
   ]
  },
  {
   "cell_type": "code",
   "execution_count": 29,
   "id": "436776d0",
   "metadata": {},
   "outputs": [
    {
     "data": {
      "image/png": "[encoded data removed]",
      "text/plain": [
       "<Figure size 640x480 with 1 Axes>"
      ]
     },
     "metadata": {},
     "output_type": "display_data"
    },
    {
     "data": {
      "image/png": "[encoded data removed]",
      "text/plain": [
       "<Figure size 640x480 with 1 Axes>"
      ]
     },
     "metadata": {},
     "output_type": "display_data"
    }
   ],
   "source": [
    "for feature in quantitative:\n",
    "    sns.histplot(df[feature])\n",
    "    plt.show()"
   ]
  },
  {
   "cell_type": "markdown",
   "id": "7a15786f",
   "metadata": {},
   "source": [
    "Lets visualize the distribution between the variables"
   ]
  },
  {
   "cell_type": "code",
   "execution_count": 30,
   "id": "f4f91c92",
   "metadata": {},
   "outputs": [
    {
     "data": {
      "image/png": "[encoded data removed]",
      "text/plain": [
       "<Figure size 1200x1200 with 2 Axes>"
      ]
     },
     "metadata": {},
     "output_type": "display_data"
    }
   ],
   "source": [
    "df.hist(bins=50, sharex=False, sharey=False, xlabelsize=1, ylabelsize=1, figsize=(12,12))\n",
    "pyplot.show()"
   ]
  },
  {
   "cell_type": "markdown",
   "id": "c0a528ab",
   "metadata": {},
   "source": [
    "### Visualisations\n",
    "\n",
    "Top 10 tweets - Pie Chart"
   ]
  },
  {
   "cell_type": "code",
   "execution_count": 31,
   "id": "622f3d4a",
   "metadata": {},
   "outputs": [
    {
     "data": {
      "image/png": "[encoded data removed]",
      "text/plain": [
       "<Figure size 1600x1200 with 1 Axes>"
      ]
     },
     "metadata": {},
     "output_type": "display_data"
    }
   ],
   "source": [
    "plt.figure(figsize=(16,12))\n",
    "ax = df['text'].value_counts().nlargest(10).plot(kind='pie', fontsize=14, autopct='%1.1f%%', legend = True, label='')\n",
    "ax.set_title(\"Tweets - Top 10\", fontsize=20, weight='bold')\n",
    "plt.legend(loc=\"best\", bbox_to_anchor=(1.3, 0.5, 0.5, 0.5));"
   ]
  },
  {
   "cell_type": "markdown",
   "id": "75d85ce6",
   "metadata": {},
   "source": [
    "### Pairplot"
   ]
  },
  {
   "cell_type": "code",
   "execution_count": 32,
   "id": "5aa1a645",
   "metadata": {},
   "outputs": [
    {
     "data": {
      "image/png": "[encoded data removed]",
      "text/plain": [
       "<Figure size 250x250 with 2 Axes>"
      ]
     },
     "metadata": {},
     "output_type": "display_data"
    }
   ],
   "source": [
    "sns.pairplot(df);"
   ]
  },
  {
   "cell_type": "markdown",
   "id": "c6d589ed",
   "metadata": {},
   "source": [
    "### Statistical Summary of Numerical Features"
   ]
  },
  {
   "cell_type": "code",
   "execution_count": 33,
   "id": "49366d27",
   "metadata": {},
   "outputs": [
    {
     "data": {
      "text/html": [
       "<div>\n",
       "<style scoped>\n",
       "    .dataframe tbody tr th:only-of-type {\n",
       "        vertical-align: middle;\n",
       "    }\n",
       "\n",
       "    .dataframe tbody tr th {\n",
       "        vertical-align: top;\n",
       "    }\n",
       "\n",
       "    .dataframe thead th {\n",
       "        text-align: right;\n",
       "    }\n",
       "</style>\n",
       "<table border=\"1\" class=\"dataframe\">\n",
       "  <thead>\n",
       "    <tr style=\"text-align: right;\">\n",
       "      <th></th>\n",
       "      <th>count</th>\n",
       "      <th>mean</th>\n",
       "      <th>min</th>\n",
       "      <th>25%</th>\n",
       "      <th>50%</th>\n",
       "      <th>75%</th>\n",
       "      <th>max</th>\n",
       "      <th>std</th>\n",
       "    </tr>\n",
       "  </thead>\n",
       "  <tbody>\n",
       "    <tr>\n",
       "      <th>ids</th>\n",
       "      <td>1599999.0</td>\n",
       "      <td>1998817884.175324</td>\n",
       "      <td>1467810672.0</td>\n",
       "      <td>1956915875.5</td>\n",
       "      <td>2002101858.0</td>\n",
       "      <td>2177059165.5</td>\n",
       "      <td>2329205794.0</td>\n",
       "      <td>193575678.917282</td>\n",
       "    </tr>\n",
       "    <tr>\n",
       "      <th>date</th>\n",
       "      <td>1599999</td>\n",
       "      <td>2009-05-31 07:26:27.994492416</td>\n",
       "      <td>2009-04-06 22:19:49</td>\n",
       "      <td>2009-05-28 23:01:17.500000</td>\n",
       "      <td>2009-06-02 03:08:55</td>\n",
       "      <td>2009-06-15 05:21:43.500000</td>\n",
       "      <td>2009-06-25 10:28:31</td>\n",
       "      <td>NaN</td>\n",
       "    </tr>\n",
       "  </tbody>\n",
       "</table>\n",
       "</div>"
      ],
      "text/plain": [
       "          count                           mean                  min  \\\n",
       "ids   1599999.0              1998817884.175324         1467810672.0   \n",
       "date    1599999  2009-05-31 07:26:27.994492416  2009-04-06 22:19:49   \n",
       "\n",
       "                             25%                  50%  \\\n",
       "ids                 1956915875.5         2002101858.0   \n",
       "date  2009-05-28 23:01:17.500000  2009-06-02 03:08:55   \n",
       "\n",
       "                             75%                  max               std  \n",
       "ids                 2177059165.5         2329205794.0  193575678.917282  \n",
       "date  2009-06-15 05:21:43.500000  2009-06-25 10:28:31               NaN  "
      ]
     },
     "execution_count": 33,
     "metadata": {},
     "output_type": "execute_result"
    }
   ],
   "source": [
    "df.describe().T"
   ]
  },
  {
   "cell_type": "markdown",
   "id": "0b86aabb",
   "metadata": {},
   "source": [
    "#### Seaborn Pairplot (all numerical features):\n",
    "\n",
    "In order to create our scatterplot pairplot, we use the .pairplot() function from the seaborn library (Waskom, n.d.b). We can clearly see that there are no linear relationships between the numerical features in our DataFrame in the pairplot."
   ]
  },
  {
   "cell_type": "code",
   "execution_count": 34,
   "id": "88ce1a57",
   "metadata": {},
   "outputs": [
    {
     "data": {
      "text/plain": [
       "<Figure size 1500x1200 with 0 Axes>"
      ]
     },
     "metadata": {},
     "output_type": "display_data"
    },
    {
     "data": {
      "image/png": "[encoded data removed]",
      "text/plain": [
       "<Figure size 250x250 with 2 Axes>"
      ]
     },
     "metadata": {},
     "output_type": "display_data"
    }
   ],
   "source": [
    "plt.figure(figsize=(15,12))\n",
    "g = sns.pairplot(df)\n",
    "g.fig.suptitle('Pairplot (Numerical Features) - Tweets in 2009\\n',\n",
    "               color='red',\n",
    "               fontsize=25,\n",
    "               fontweight='bold',\n",
    "               y=1.04)\n",
    "plt.show();"
   ]
  },
  {
   "cell_type": "markdown",
   "id": "f0eff00a",
   "metadata": {},
   "source": [
    "### Statistical Summary of Categorical Features"
   ]
  },
  {
   "cell_type": "code",
   "execution_count": 35,
   "id": "25749d79",
   "metadata": {},
   "outputs": [
    {
     "data": {
      "text/html": [
       "<div>\n",
       "<style scoped>\n",
       "    .dataframe tbody tr th:only-of-type {\n",
       "        vertical-align: middle;\n",
       "    }\n",
       "\n",
       "    .dataframe tbody tr th {\n",
       "        vertical-align: top;\n",
       "    }\n",
       "\n",
       "    .dataframe thead th {\n",
       "        text-align: right;\n",
       "    }\n",
       "</style>\n",
       "<table border=\"1\" class=\"dataframe\">\n",
       "  <thead>\n",
       "    <tr style=\"text-align: right;\">\n",
       "      <th></th>\n",
       "      <th>count</th>\n",
       "      <th>unique</th>\n",
       "      <th>top</th>\n",
       "      <th>freq</th>\n",
       "    </tr>\n",
       "  </thead>\n",
       "  <tbody>\n",
       "    <tr>\n",
       "      <th>user</th>\n",
       "      <td>1599999</td>\n",
       "      <td>659775</td>\n",
       "      <td>lost_dog</td>\n",
       "      <td>549</td>\n",
       "    </tr>\n",
       "    <tr>\n",
       "      <th>text</th>\n",
       "      <td>1599999</td>\n",
       "      <td>1581465</td>\n",
       "      <td>isPlayer Has Died! Sorry</td>\n",
       "      <td>210</td>\n",
       "    </tr>\n",
       "  </tbody>\n",
       "</table>\n",
       "</div>"
      ],
      "text/plain": [
       "        count   unique                        top freq\n",
       "user  1599999   659775                   lost_dog  549\n",
       "text  1599999  1581465  isPlayer Has Died! Sorry   210"
      ]
     },
     "execution_count": 35,
     "metadata": {},
     "output_type": "execute_result"
    }
   ],
   "source": [
    "df.describe(include=object).T"
   ]
  },
  {
   "cell_type": "markdown",
   "id": "1800b4c6",
   "metadata": {},
   "source": [
    "## Sentiment Analysis"
   ]
  },
  {
   "cell_type": "markdown",
   "id": "b3c066da",
   "metadata": {},
   "source": [
    "Now I will consider the first tweet for sentiment analysis, taking into cosideration that inside a tweet, there are several categories, such as user, text, emojis, links and user"
   ]
  },
  {
   "cell_type": "markdown",
   "id": "a3210c3b",
   "metadata": {},
   "source": [
    "For analysis, I will preprocess the text to analyse the way the model is trained.\n",
    "the way the tweeter model is used is by using @user to mention a user and instead of hyperlink, just write http"
   ]
  },
  {
   "cell_type": "markdown",
   "id": "70966afd",
   "metadata": {},
   "source": [
    "### Preprocess tweet"
   ]
  },
  {
   "cell_type": "code",
   "execution_count": 36,
   "id": "296adfeb",
   "metadata": {},
   "outputs": [],
   "source": [
    "tweet = \"@switchfoot http://twitpic.com/2y1zl - Awww, that's a bummer.  You shoulda got David Carr of Third Day to do it. ;D\""
   ]
  },
  {
   "cell_type": "code",
   "execution_count": 37,
   "id": "55db3453",
   "metadata": {},
   "outputs": [],
   "source": [
    "tweet_words = []"
   ]
  },
  {
   "cell_type": "code",
   "execution_count": 38,
   "id": "fa09a581",
   "metadata": {},
   "outputs": [
    {
     "name": "stdout",
     "output_type": "stream",
     "text": [
      "['@user', 'http', '-', 'Awww,', \"that's\", 'a', 'bummer.', '', 'You', 'shoulda', 'got', 'David', 'Carr', 'of', 'Third', 'Day', 'to', 'do', 'it.', ';D']\n"
     ]
    }
   ],
   "source": [
    "for word in tweet.split(' '):\n",
    "    if word.startswith('@') and len(word) >1:\n",
    "        word = '@user'\n",
    "        \n",
    "    elif word.startswith('http'):\n",
    "        word = 'http'\n",
    "    tweet_words.append(word)\n",
    "    \n",
    "print(tweet_words)"
   ]
  },
  {
   "cell_type": "code",
   "execution_count": 39,
   "id": "e8429786",
   "metadata": {},
   "outputs": [
    {
     "name": "stdout",
     "output_type": "stream",
     "text": [
      "@user http - Awww, that's a bummer.  You shoulda got David Carr of Third Day to do it. ;D\n"
     ]
    }
   ],
   "source": [
    "tweet_proc = ' '.join(tweet_words)\n",
    "print(tweet_proc)"
   ]
  },
  {
   "cell_type": "code",
   "execution_count": 40,
   "id": "280507e7",
   "metadata": {},
   "outputs": [],
   "source": [
    "roberta = 'cardiffnlp/twitter-roberta-base-sentiment'"
   ]
  },
  {
   "cell_type": "code",
   "execution_count": 41,
   "id": "beb89ba9",
   "metadata": {},
   "outputs": [],
   "source": [
    "model = AutoModelForSequenceClassification. from_pretrained(roberta)"
   ]
  },
  {
   "cell_type": "code",
   "execution_count": 42,
   "id": "e34b0b6b",
   "metadata": {},
   "outputs": [],
   "source": [
    "tokenizer = AutoTokenizer.from_pretrained(roberta)"
   ]
  },
  {
   "cell_type": "markdown",
   "id": "f24b3a0b",
   "metadata": {},
   "source": [
    "Now I will make a list of the labels"
   ]
  },
  {
   "cell_type": "code",
   "execution_count": 43,
   "id": "97fb89db",
   "metadata": {},
   "outputs": [],
   "source": [
    "labels = ['Negative', 'Neutral', 'Positive']"
   ]
  },
  {
   "cell_type": "markdown",
   "id": "1da015e6",
   "metadata": {},
   "source": [
    "Now I will write the coode for tweet sentiment analysis\n",
    "\n",
    "I will convert the tweet into pytorch tensors and then pass into the model"
   ]
  },
  {
   "cell_type": "code",
   "execution_count": 44,
   "id": "93005c56",
   "metadata": {},
   "outputs": [],
   "source": [
    "encoded_tweet = tokenizer(tweet_proc, \n",
    "                          return_tensors='pt')"
   ]
  },
  {
   "cell_type": "code",
   "execution_count": 45,
   "id": "c2c4ad9d",
   "metadata": {},
   "outputs": [
    {
     "name": "stdout",
     "output_type": "stream",
     "text": [
      "{'input_ids': tensor([[    0,  1039, 12105,  2054,   111,    83,  1401,     6,    14,    18,\n",
      "            10,   741, 22539,     4,  1437,   370,   197,   102,   300,   871,\n",
      "          8902,     9,  7470,  1053,     7,   109,    24,     4, 25606,   495,\n",
      "             2]]), 'attention_mask': tensor([[1, 1, 1, 1, 1, 1, 1, 1, 1, 1, 1, 1, 1, 1, 1, 1, 1, 1, 1, 1, 1, 1, 1, 1,\n",
      "         1, 1, 1, 1, 1, 1, 1]])}\n"
     ]
    }
   ],
   "source": [
    "print(encoded_tweet)"
   ]
  },
  {
   "cell_type": "markdown",
   "id": "8691c75f",
   "metadata": {},
   "source": [
    "We can see that the encoded tweet is a dictionary with the tensor and attention mask"
   ]
  },
  {
   "cell_type": "markdown",
   "id": "7339bbe1",
   "metadata": {},
   "source": [
    "Now I will pass the encoded tweet into the model to do the sentiment analysis"
   ]
  },
  {
   "cell_type": "code",
   "execution_count": 46,
   "id": "4a82402c",
   "metadata": {},
   "outputs": [
    {
     "name": "stdout",
     "output_type": "stream",
     "text": [
      "SequenceClassifierOutput(loss=None, logits=tensor([[ 1.1066,  0.4083, -1.4245]], grad_fn=<AddmmBackward0>), hidden_states=None, attentions=None)\n"
     ]
    }
   ],
   "source": [
    "output = model(encoded_tweet['input_ids'],\n",
    "              encoded_tweet['attention_mask'])\n",
    "print(output)"
   ]
  },
  {
   "cell_type": "code",
   "execution_count": 47,
   "id": "3acd6048",
   "metadata": {},
   "outputs": [
    {
     "name": "stdout",
     "output_type": "stream",
     "text": [
      "[0.63412744 0.31541547 0.0504571 ]\n"
     ]
    }
   ],
   "source": [
    "scores = output[0][0].detach().numpy()\n",
    "scores = softmax(scores)\n",
    "print(scores)"
   ]
  },
  {
   "cell_type": "markdown",
   "id": "a886b376",
   "metadata": {},
   "source": [
    "I got the probabilities and now will print the output with corresponding labels"
   ]
  },
  {
   "cell_type": "code",
   "execution_count": 48,
   "id": "2f280a43",
   "metadata": {},
   "outputs": [
    {
     "name": "stdout",
     "output_type": "stream",
     "text": [
      "Negative 0.63412744\n",
      "Neutral 0.31541547\n",
      "Positive 0.050457098\n"
     ]
    }
   ],
   "source": [
    "for i in range(len(scores)):\n",
    "    \n",
    "    l = labels[i]\n",
    "    s = scores[i]\n",
    "    print(l,s)\n",
    "    "
   ]
  },
  {
   "cell_type": "markdown",
   "id": "27ebde19",
   "metadata": {},
   "source": [
    "I will now use a prebuilt sentiment analysis tool in this case TextBlob to perform sentiment analysis in the column text"
   ]
  },
  {
   "cell_type": "code",
   "execution_count": 49,
   "id": "306c9092",
   "metadata": {},
   "outputs": [],
   "source": [
    "def analyze_sentiment(text):\n",
    "    analysis = TextBlob(text)\n",
    "    return analysis.sentiment.polarity"
   ]
  },
  {
   "cell_type": "code",
   "execution_count": 50,
   "id": "75eab543",
   "metadata": {},
   "outputs": [],
   "source": [
    "df['sentiment'] = df['text'].apply(analyze_sentiment)"
   ]
  },
  {
   "cell_type": "code",
   "execution_count": 51,
   "id": "e8f2f795",
   "metadata": {},
   "outputs": [
    {
     "data": {
      "text/html": [
       "<div>\n",
       "<style scoped>\n",
       "    .dataframe tbody tr th:only-of-type {\n",
       "        vertical-align: middle;\n",
       "    }\n",
       "\n",
       "    .dataframe tbody tr th {\n",
       "        vertical-align: top;\n",
       "    }\n",
       "\n",
       "    .dataframe thead th {\n",
       "        text-align: right;\n",
       "    }\n",
       "</style>\n",
       "<table border=\"1\" class=\"dataframe\">\n",
       "  <thead>\n",
       "    <tr style=\"text-align: right;\">\n",
       "      <th></th>\n",
       "      <th>ids</th>\n",
       "      <th>date</th>\n",
       "      <th>user</th>\n",
       "      <th>text</th>\n",
       "      <th>sentiment</th>\n",
       "    </tr>\n",
       "  </thead>\n",
       "  <tbody>\n",
       "    <tr>\n",
       "      <th>0</th>\n",
       "      <td>1467810672</td>\n",
       "      <td>2009-04-06 22:19:49</td>\n",
       "      <td>scotthamilton</td>\n",
       "      <td>is upset that he can't update his Facebook by ...</td>\n",
       "      <td>0.000</td>\n",
       "    </tr>\n",
       "    <tr>\n",
       "      <th>1</th>\n",
       "      <td>1467810917</td>\n",
       "      <td>2009-04-06 22:19:53</td>\n",
       "      <td>mattycus</td>\n",
       "      <td>@Kenichan I dived many times for the ball. Man...</td>\n",
       "      <td>0.500</td>\n",
       "    </tr>\n",
       "    <tr>\n",
       "      <th>2</th>\n",
       "      <td>1467811184</td>\n",
       "      <td>2009-04-06 22:19:57</td>\n",
       "      <td>ElleCTF</td>\n",
       "      <td>my whole body feels itchy and like its on fire</td>\n",
       "      <td>0.200</td>\n",
       "    </tr>\n",
       "    <tr>\n",
       "      <th>3</th>\n",
       "      <td>1467811193</td>\n",
       "      <td>2009-04-06 22:19:57</td>\n",
       "      <td>Karoli</td>\n",
       "      <td>@nationwideclass no, it's not behaving at all....</td>\n",
       "      <td>-0.625</td>\n",
       "    </tr>\n",
       "    <tr>\n",
       "      <th>4</th>\n",
       "      <td>1467811372</td>\n",
       "      <td>2009-04-06 22:20:00</td>\n",
       "      <td>joy_wolf</td>\n",
       "      <td>@Kwesidei not the whole crew</td>\n",
       "      <td>0.200</td>\n",
       "    </tr>\n",
       "    <tr>\n",
       "      <th>...</th>\n",
       "      <td>...</td>\n",
       "      <td>...</td>\n",
       "      <td>...</td>\n",
       "      <td>...</td>\n",
       "      <td>...</td>\n",
       "    </tr>\n",
       "    <tr>\n",
       "      <th>1599994</th>\n",
       "      <td>2193601966</td>\n",
       "      <td>2009-06-16 08:40:49</td>\n",
       "      <td>AmandaMarie1028</td>\n",
       "      <td>Just woke up. Having no school is the best fee...</td>\n",
       "      <td>1.000</td>\n",
       "    </tr>\n",
       "    <tr>\n",
       "      <th>1599995</th>\n",
       "      <td>2193601969</td>\n",
       "      <td>2009-06-16 08:40:49</td>\n",
       "      <td>TheWDBoards</td>\n",
       "      <td>TheWDB.com - Very cool to hear old Walt interv...</td>\n",
       "      <td>0.290</td>\n",
       "    </tr>\n",
       "    <tr>\n",
       "      <th>1599996</th>\n",
       "      <td>2193601991</td>\n",
       "      <td>2009-06-16 08:40:49</td>\n",
       "      <td>bpbabe</td>\n",
       "      <td>Are you ready for your MoJo Makeover? Ask me f...</td>\n",
       "      <td>0.200</td>\n",
       "    </tr>\n",
       "    <tr>\n",
       "      <th>1599997</th>\n",
       "      <td>2193602064</td>\n",
       "      <td>2009-06-16 08:40:49</td>\n",
       "      <td>tinydiamondz</td>\n",
       "      <td>Happy 38th Birthday to my boo of alll time!!! ...</td>\n",
       "      <td>1.000</td>\n",
       "    </tr>\n",
       "    <tr>\n",
       "      <th>1599998</th>\n",
       "      <td>2193602129</td>\n",
       "      <td>2009-06-16 08:40:50</td>\n",
       "      <td>RyanTrevMorris</td>\n",
       "      <td>happy #charitytuesday @theNSPCC @SparksCharity...</td>\n",
       "      <td>0.800</td>\n",
       "    </tr>\n",
       "  </tbody>\n",
       "</table>\n",
       "<p>1599999 rows × 5 columns</p>\n",
       "</div>"
      ],
      "text/plain": [
       "                ids                date             user  \\\n",
       "0        1467810672 2009-04-06 22:19:49    scotthamilton   \n",
       "1        1467810917 2009-04-06 22:19:53         mattycus   \n",
       "2        1467811184 2009-04-06 22:19:57          ElleCTF   \n",
       "3        1467811193 2009-04-06 22:19:57           Karoli   \n",
       "4        1467811372 2009-04-06 22:20:00         joy_wolf   \n",
       "...             ...                 ...              ...   \n",
       "1599994  2193601966 2009-06-16 08:40:49  AmandaMarie1028   \n",
       "1599995  2193601969 2009-06-16 08:40:49      TheWDBoards   \n",
       "1599996  2193601991 2009-06-16 08:40:49           bpbabe   \n",
       "1599997  2193602064 2009-06-16 08:40:49     tinydiamondz   \n",
       "1599998  2193602129 2009-06-16 08:40:50   RyanTrevMorris   \n",
       "\n",
       "                                                      text  sentiment  \n",
       "0        is upset that he can't update his Facebook by ...      0.000  \n",
       "1        @Kenichan I dived many times for the ball. Man...      0.500  \n",
       "2          my whole body feels itchy and like its on fire       0.200  \n",
       "3        @nationwideclass no, it's not behaving at all....     -0.625  \n",
       "4                            @Kwesidei not the whole crew       0.200  \n",
       "...                                                    ...        ...  \n",
       "1599994  Just woke up. Having no school is the best fee...      1.000  \n",
       "1599995  TheWDB.com - Very cool to hear old Walt interv...      0.290  \n",
       "1599996  Are you ready for your MoJo Makeover? Ask me f...      0.200  \n",
       "1599997  Happy 38th Birthday to my boo of alll time!!! ...      1.000  \n",
       "1599998  happy #charitytuesday @theNSPCC @SparksCharity...      0.800  \n",
       "\n",
       "[1599999 rows x 5 columns]"
      ]
     },
     "execution_count": 51,
     "metadata": {},
     "output_type": "execute_result"
    }
   ],
   "source": [
    "df"
   ]
  },
  {
   "cell_type": "markdown",
   "id": "ed7b987c",
   "metadata": {},
   "source": [
    "Lets analyse the new column sentiment"
   ]
  },
  {
   "cell_type": "code",
   "execution_count": 52,
   "id": "7ed16261",
   "metadata": {},
   "outputs": [
    {
     "name": "stdout",
     "output_type": "stream",
     "text": [
      "count    1.599999e+06\n",
      "mean     1.022887e-01\n",
      "std      3.523513e-01\n",
      "min     -1.000000e+00\n",
      "25%      0.000000e+00\n",
      "50%      0.000000e+00\n",
      "75%      3.000000e-01\n",
      "max      1.000000e+00\n",
      "Name: sentiment, dtype: float64\n"
     ]
    }
   ],
   "source": [
    "print(df['sentiment'].describe())\n"
   ]
  },
  {
   "cell_type": "code",
   "execution_count": null,
   "id": "6c3fef91",
   "metadata": {},
   "outputs": [],
   "source": []
  },
  {
   "cell_type": "code",
   "execution_count": 53,
   "id": "6ba45b3a",
   "metadata": {},
   "outputs": [
    {
     "data": {
      "image/png": "[encoded data removed]",
      "text/plain": [
       "<Figure size 640x480 with 1 Axes>"
      ]
     },
     "metadata": {},
     "output_type": "display_data"
    }
   ],
   "source": [
    "sns.histplot(df['sentiment'], bins=20, kde=True)\n",
    "plt.title('Sentiment Distribution')\n",
    "plt.xlabel('Sentiment Score')\n",
    "plt.ylabel('Frequency')\n",
    "plt.show()"
   ]
  },
  {
   "cell_type": "markdown",
   "id": "18a51de9",
   "metadata": {},
   "source": [
    "Accordint to this results, we can see that the highest amounts of tweets are 0 or neutral, but further analysis will investigate that"
   ]
  },
  {
   "cell_type": "markdown",
   "id": "eab5364d",
   "metadata": {},
   "source": [
    "I will now define a function to categorize the column sentiment into positive, negative and neutral"
   ]
  },
  {
   "cell_type": "code",
   "execution_count": 54,
   "id": "cbeabc28",
   "metadata": {},
   "outputs": [],
   "source": [
    "df['category'] = df['sentiment'].apply(lambda x: 'positive' if x > 0 else ('neutral' if x == 0 else 'negative'))\n"
   ]
  },
  {
   "cell_type": "code",
   "execution_count": 55,
   "id": "392a40af",
   "metadata": {},
   "outputs": [
    {
     "data": {
      "text/plain": [
       "category\n",
       "positive    698006\n",
       "neutral     568723\n",
       "negative    333270\n",
       "Name: count, dtype: int64"
      ]
     },
     "execution_count": 55,
     "metadata": {},
     "output_type": "execute_result"
    }
   ],
   "source": [
    "df.category.value_counts()"
   ]
  },
  {
   "cell_type": "markdown",
   "id": "51560e12",
   "metadata": {},
   "source": [
    "Lets see 1 tweet foe each sentiment"
   ]
  },
  {
   "cell_type": "code",
   "execution_count": 56,
   "id": "dbe0a161",
   "metadata": {},
   "outputs": [
    {
     "data": {
      "text/html": [
       "<div>\n",
       "<style scoped>\n",
       "    .dataframe tbody tr th:only-of-type {\n",
       "        vertical-align: middle;\n",
       "    }\n",
       "\n",
       "    .dataframe tbody tr th {\n",
       "        vertical-align: top;\n",
       "    }\n",
       "\n",
       "    .dataframe thead th {\n",
       "        text-align: right;\n",
       "    }\n",
       "</style>\n",
       "<table border=\"1\" class=\"dataframe\">\n",
       "  <thead>\n",
       "    <tr style=\"text-align: right;\">\n",
       "      <th></th>\n",
       "      <th>ids</th>\n",
       "      <th>date</th>\n",
       "      <th>user</th>\n",
       "      <th>text</th>\n",
       "      <th>sentiment</th>\n",
       "      <th>category</th>\n",
       "    </tr>\n",
       "  </thead>\n",
       "  <tbody>\n",
       "    <tr>\n",
       "      <th>1</th>\n",
       "      <td>1467810917</td>\n",
       "      <td>2009-04-06 22:19:53</td>\n",
       "      <td>mattycus</td>\n",
       "      <td>@Kenichan I dived many times for the ball. Man...</td>\n",
       "      <td>0.5</td>\n",
       "      <td>positive</td>\n",
       "    </tr>\n",
       "  </tbody>\n",
       "</table>\n",
       "</div>"
      ],
      "text/plain": [
       "          ids                date      user  \\\n",
       "1  1467810917 2009-04-06 22:19:53  mattycus   \n",
       "\n",
       "                                                text  sentiment  category  \n",
       "1  @Kenichan I dived many times for the ball. Man...        0.5  positive  "
      ]
     },
     "metadata": {},
     "output_type": "display_data"
    },
    {
     "data": {
      "text/html": [
       "<div>\n",
       "<style scoped>\n",
       "    .dataframe tbody tr th:only-of-type {\n",
       "        vertical-align: middle;\n",
       "    }\n",
       "\n",
       "    .dataframe tbody tr th {\n",
       "        vertical-align: top;\n",
       "    }\n",
       "\n",
       "    .dataframe thead th {\n",
       "        text-align: right;\n",
       "    }\n",
       "</style>\n",
       "<table border=\"1\" class=\"dataframe\">\n",
       "  <thead>\n",
       "    <tr style=\"text-align: right;\">\n",
       "      <th></th>\n",
       "      <th>ids</th>\n",
       "      <th>date</th>\n",
       "      <th>user</th>\n",
       "      <th>text</th>\n",
       "      <th>sentiment</th>\n",
       "      <th>category</th>\n",
       "    </tr>\n",
       "  </thead>\n",
       "  <tbody>\n",
       "    <tr>\n",
       "      <th>0</th>\n",
       "      <td>1467810672</td>\n",
       "      <td>2009-04-06 22:19:49</td>\n",
       "      <td>scotthamilton</td>\n",
       "      <td>is upset that he can't update his Facebook by ...</td>\n",
       "      <td>0.0</td>\n",
       "      <td>neutral</td>\n",
       "    </tr>\n",
       "  </tbody>\n",
       "</table>\n",
       "</div>"
      ],
      "text/plain": [
       "          ids                date           user  \\\n",
       "0  1467810672 2009-04-06 22:19:49  scotthamilton   \n",
       "\n",
       "                                                text  sentiment category  \n",
       "0  is upset that he can't update his Facebook by ...        0.0  neutral  "
      ]
     },
     "metadata": {},
     "output_type": "display_data"
    },
    {
     "data": {
      "text/html": [
       "<div>\n",
       "<style scoped>\n",
       "    .dataframe tbody tr th:only-of-type {\n",
       "        vertical-align: middle;\n",
       "    }\n",
       "\n",
       "    .dataframe tbody tr th {\n",
       "        vertical-align: top;\n",
       "    }\n",
       "\n",
       "    .dataframe thead th {\n",
       "        text-align: right;\n",
       "    }\n",
       "</style>\n",
       "<table border=\"1\" class=\"dataframe\">\n",
       "  <thead>\n",
       "    <tr style=\"text-align: right;\">\n",
       "      <th></th>\n",
       "      <th>ids</th>\n",
       "      <th>date</th>\n",
       "      <th>user</th>\n",
       "      <th>text</th>\n",
       "      <th>sentiment</th>\n",
       "      <th>category</th>\n",
       "    </tr>\n",
       "  </thead>\n",
       "  <tbody>\n",
       "    <tr>\n",
       "      <th>3</th>\n",
       "      <td>1467811193</td>\n",
       "      <td>2009-04-06 22:19:57</td>\n",
       "      <td>Karoli</td>\n",
       "      <td>@nationwideclass no, it's not behaving at all....</td>\n",
       "      <td>-0.625</td>\n",
       "      <td>negative</td>\n",
       "    </tr>\n",
       "  </tbody>\n",
       "</table>\n",
       "</div>"
      ],
      "text/plain": [
       "          ids                date    user  \\\n",
       "3  1467811193 2009-04-06 22:19:57  Karoli   \n",
       "\n",
       "                                                text  sentiment  category  \n",
       "3  @nationwideclass no, it's not behaving at all....     -0.625  negative  "
      ]
     },
     "metadata": {},
     "output_type": "display_data"
    }
   ],
   "source": [
    "display(df[df[\"category\"] == 'positive'].head(1))\n",
    "display(df[df[\"category\"] == 'neutral'].head(1))\n",
    "display(df[df[\"category\"] == 'negative'].head(1))"
   ]
  },
  {
   "cell_type": "markdown",
   "id": "229be059",
   "metadata": {},
   "source": [
    "Next, I will count the number of tweets that are positive, negative and neutral:"
   ]
  },
  {
   "cell_type": "code",
   "execution_count": 57,
   "id": "f21dc7c0",
   "metadata": {},
   "outputs": [
    {
     "name": "stdout",
     "output_type": "stream",
     "text": [
      "category\n",
      "negative    333270\n",
      "neutral     568723\n",
      "positive    698006\n",
      "dtype: int64\n"
     ]
    }
   ],
   "source": [
    "sentiment_counts = df.groupby(['category']).size()\n",
    "print(sentiment_counts)"
   ]
  },
  {
   "cell_type": "code",
   "execution_count": 58,
   "id": "76827c10",
   "metadata": {},
   "outputs": [],
   "source": [
    "category_counts = df['category'].value_counts()"
   ]
  },
  {
   "cell_type": "code",
   "execution_count": 59,
   "id": "4148f117",
   "metadata": {},
   "outputs": [
    {
     "data": {
      "text/plain": [
       "category\n",
       "positive    698006\n",
       "neutral     568723\n",
       "negative    333270\n",
       "Name: count, dtype: int64"
      ]
     },
     "execution_count": 59,
     "metadata": {},
     "output_type": "execute_result"
    }
   ],
   "source": [
    "category_counts"
   ]
  },
  {
   "cell_type": "markdown",
   "id": "7f756515",
   "metadata": {},
   "source": [
    "We can see that most tweets are positive"
   ]
  },
  {
   "cell_type": "markdown",
   "id": "8196dc02",
   "metadata": {},
   "source": [
    "Lets visualize the count of tweets sentiment in a histogram"
   ]
  },
  {
   "cell_type": "code",
   "execution_count": 60,
   "id": "a591e3b1",
   "metadata": {},
   "outputs": [
    {
     "data": {
      "text/plain": [
       "Text(0.5, 1.0, 'Dataset labels distribuition')"
      ]
     },
     "execution_count": 60,
     "metadata": {},
     "output_type": "execute_result"
    },
    {
     "data": {
      "image/png": "[encoded data removed]",
      "text/plain": [
       "<Figure size 1600x800 with 1 Axes>"
      ]
     },
     "metadata": {},
     "output_type": "display_data"
    }
   ],
   "source": [
    "target_cnt = Counter(df.category)\n",
    "\n",
    "plt.figure(figsize=(16,8))\n",
    "plt.bar(target_cnt.keys(), target_cnt.values())\n",
    "plt.title(\"Dataset labels distribuition\")"
   ]
  },
  {
   "cell_type": "code",
   "execution_count": 61,
   "id": "7e2a8d9f",
   "metadata": {},
   "outputs": [
    {
     "data": {
      "image/png": "[encoded data removed]",
      "text/plain": [
       "<Figure size 1200x800 with 1 Axes>"
      ]
     },
     "metadata": {},
     "output_type": "display_data"
    }
   ],
   "source": [
    "class_count = df['category'].value_counts()\n",
    "\n",
    "plt.figure(figsize=(12, 8))\n",
    "tick_locations = [0, 1, 2]\n",
    "tick_labels = ['positive', 'neutral', 'negative']\n",
    "plt.xticks(tick_locations, tick_labels)\n",
    "plt.bar(x=tick_locations, height=class_count.values, color=['g', 'r', 'b'])\n",
    "plt.xlabel('Sentiment Categories')\n",
    "plt.ylabel('Count')\n",
    "plt.title('Distribution of Sentiment Categories')\n",
    "plt.show()"
   ]
  },
  {
   "cell_type": "markdown",
   "id": "54892f9e",
   "metadata": {},
   "source": [
    "## Text Preprocessing"
   ]
  },
  {
   "cell_type": "markdown",
   "id": "e4360811",
   "metadata": {},
   "source": [
    "I will now use stop words to filter out common and non-informative words from text data.\n",
    "\n",
    "These words are words considered to have little or no value in terms of the meaning of the text"
   ]
  },
  {
   "cell_type": "code",
   "execution_count": 62,
   "id": "2b780be7",
   "metadata": {},
   "outputs": [
    {
     "name": "stderr",
     "output_type": "stream",
     "text": [
      "[nltk_data] Downloading package stopwords to\n",
      "[nltk_data]     C:\\Users\\edmun\\AppData\\Roaming\\nltk_data...\n",
      "[nltk_data]   Package stopwords is already up-to-date!\n"
     ]
    },
    {
     "data": {
      "text/plain": [
       "True"
      ]
     },
     "execution_count": 62,
     "metadata": {},
     "output_type": "execute_result"
    }
   ],
   "source": [
    "nltk.download('stopwords')"
   ]
  },
  {
   "cell_type": "code",
   "execution_count": 63,
   "id": "97892913",
   "metadata": {},
   "outputs": [],
   "source": [
    "def remove_stopwords(text):\n",
    "    stop_words = set(stopwords.words('english'))\n",
    "    tokens = text.split()\n",
    "    filtered_tokens = [word for word in tokens if word.lower() not in stop_words]\n",
    "    return ' '.join(filtered_tokens)\n"
   ]
  },
  {
   "cell_type": "markdown",
   "id": "e3db8472",
   "metadata": {},
   "source": [
    "I will apply stop words to the column text to remove stop words"
   ]
  },
  {
   "cell_type": "code",
   "execution_count": null,
   "id": "c10e66b4",
   "metadata": {},
   "outputs": [],
   "source": [
    "df['text'] = df['text'].apply(remove_stopwords)\n"
   ]
  },
  {
   "cell_type": "code",
   "execution_count": null,
   "id": "ae63cb93",
   "metadata": {},
   "outputs": [],
   "source": [
    "df['text']=df['text'].str.lower()\n",
    "df['text'].head()"
   ]
  },
  {
   "cell_type": "markdown",
   "id": "f6bbcada",
   "metadata": {},
   "source": [
    "I will now clean and remove punctuations"
   ]
  },
  {
   "cell_type": "code",
   "execution_count": null,
   "id": "9603fb9c",
   "metadata": {},
   "outputs": [],
   "source": [
    "import string\n",
    "english_punctuations = string.punctuation\n",
    "punctuations_list = english_punctuations\n",
    "def remove_punctuations(text):\n",
    "    translator = str.maketrans('', '', punctuations_list)\n",
    "    return text.translate(translator)\n",
    "df['text']= df['text'].apply(lambda x: remove_punctuations(x))\n",
    "df['text'].tail()"
   ]
  },
  {
   "cell_type": "markdown",
   "id": "bdc378fa",
   "metadata": {},
   "source": [
    "Cleaning and removing repeating characters"
   ]
  },
  {
   "cell_type": "code",
   "execution_count": null,
   "id": "9ff65b09",
   "metadata": {},
   "outputs": [],
   "source": [
    "def remove_repeating_char(text):\n",
    "    return re.sub(r'(.)1+', r'1', text)\n",
    "df['text'] = df['text'].apply(lambda x: remove_repeating_char(x))\n",
    "df['text'].tail()"
   ]
  },
  {
   "cell_type": "markdown",
   "id": "1fcbab1f",
   "metadata": {},
   "source": [
    "Removing URLS"
   ]
  },
  {
   "cell_type": "code",
   "execution_count": null,
   "id": "ae0f6d6e",
   "metadata": {},
   "outputs": [],
   "source": [
    "def remove_URLs(df):\n",
    "    return re.sub('((www.[^s]+)|(https?://[^s]+))',' ',df)\n",
    "df['text'] = df['text'].apply(lambda x: remove_URLs(x))\n",
    "df['text'].tail()"
   ]
  },
  {
   "cell_type": "markdown",
   "id": "85dea3c5",
   "metadata": {},
   "source": [
    " Cleaning and removing numeric numbers"
   ]
  },
  {
   "cell_type": "code",
   "execution_count": null,
   "id": "35ffe31c",
   "metadata": {},
   "outputs": [],
   "source": [
    "def remove_numbers(df):\n",
    "    return re.sub('[0-9]+', '', df)\n",
    "df['text'] = df['text'].apply(lambda x: remove_numbers(x))\n",
    "df['text'].tail()"
   ]
  },
  {
   "cell_type": "code",
   "execution_count": null,
   "id": "5344b9db",
   "metadata": {},
   "outputs": [],
   "source": [
    "df"
   ]
  },
  {
   "cell_type": "markdown",
   "id": "3ad02aa6",
   "metadata": {},
   "source": [
    "I have removed all stop words from text column"
   ]
  },
  {
   "cell_type": "markdown",
   "id": "0d1b4a5b",
   "metadata": {},
   "source": [
    "## Plotting the Time series "
   ]
  },
  {
   "cell_type": "markdown",
   "id": "50ff1c1d",
   "metadata": {},
   "source": [
    "Selecting the features only required for the time series analysis. I dont need the entire dataset. Hence, irrelevant columns are dropped or preselected, this will reduce complexity and noise during the analysis. This project will forecast the number of tweets at Week 1, Month 1 and Month 3"
   ]
  },
  {
   "cell_type": "code",
   "execution_count": null,
   "id": "a9dd0ea3",
   "metadata": {},
   "outputs": [],
   "source": [
    "df_time_series = df[['date','text','category']]"
   ]
  },
  {
   "cell_type": "code",
   "execution_count": null,
   "id": "d5403d73",
   "metadata": {},
   "outputs": [],
   "source": [
    "df_time_series.tail(10)"
   ]
  },
  {
   "cell_type": "code",
   "execution_count": null,
   "id": "57036f92",
   "metadata": {},
   "outputs": [],
   "source": [
    "df_time_series.info()"
   ]
  },
  {
   "cell_type": "code",
   "execution_count": null,
   "id": "0283de56",
   "metadata": {},
   "outputs": [],
   "source": [
    "df_resampled = df_time_series.loc[df_time_series['date']<='2009/12/31'][['date', \n",
    "                'text']].groupby(by='date').sum().reset_index()"
   ]
  },
  {
   "cell_type": "code",
   "execution_count": null,
   "id": "51c1590e",
   "metadata": {},
   "outputs": [],
   "source": []
  },
  {
   "cell_type": "markdown",
   "id": "16d83127",
   "metadata": {},
   "source": [
    "Check Stationary Augmented Dickey-Fuller test"
   ]
  },
  {
   "cell_type": "code",
   "execution_count": null,
   "id": "b4725e78",
   "metadata": {},
   "outputs": [],
   "source": [
    "ad_fuller_result2 = adfuller(df_resampled['text'])\n",
    "\n",
    "print('Augmented Dickey-Fuller')\n",
    "print('ADF statistic: {:.4f}'.format(result[0]))\n",
    "print('P-value: {:.4f}'.format(result[1]))\n",
    "print('Critical values:')\n",
    "for key, value in result[4].items():\n",
    "    print('\\t{}: {:.4f}'.format(key, value))"
   ]
  },
  {
   "cell_type": "code",
   "execution_count": null,
   "id": "243c38ee",
   "metadata": {},
   "outputs": [],
   "source": []
  },
  {
   "cell_type": "code",
   "execution_count": null,
   "id": "68228ffd",
   "metadata": {},
   "outputs": [],
   "source": []
  },
  {
   "cell_type": "code",
   "execution_count": null,
   "id": "c6e7d342",
   "metadata": {},
   "outputs": [],
   "source": []
  },
  {
   "cell_type": "code",
   "execution_count": null,
   "id": "2dd8d6ff",
   "metadata": {},
   "outputs": [],
   "source": []
  },
  {
   "cell_type": "code",
   "execution_count": null,
   "id": "168079fb",
   "metadata": {},
   "outputs": [],
   "source": []
  },
  {
   "cell_type": "code",
   "execution_count": null,
   "id": "91fbb5c2",
   "metadata": {},
   "outputs": [],
   "source": []
  },
  {
   "cell_type": "code",
   "execution_count": null,
   "id": "9588ac9e",
   "metadata": {},
   "outputs": [],
   "source": []
  },
  {
   "cell_type": "code",
   "execution_count": null,
   "id": "0fdf2d22",
   "metadata": {},
   "outputs": [],
   "source": []
  },
  {
   "cell_type": "code",
   "execution_count": null,
   "id": "cfd4ac8e",
   "metadata": {},
   "outputs": [],
   "source": []
  }
 ],
 "metadata": {
  "kernelspec": {
   "display_name": "Python 3 (ipykernel)",
   "language": "python",
   "name": "python3"
  },
  "language_info": {
   "codemirror_mode": {
    "name": "ipython",
    "version": 3
   },
   "file_extension": ".py",
   "mimetype": "text/x-python",
   "name": "python",
   "nbconvert_exporter": "python",
   "pygments_lexer": "ipython3",
   "version": "3.10.9"
  }
 },
 "nbformat": 4,
 "nbformat_minor": 5
}
